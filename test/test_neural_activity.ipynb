{
 "cells": [
  {
   "cell_type": "markdown",
   "metadata": {},
   "source": [
    "This block read data from a demo session. Mouse #27049, 20220516, session 1"
   ]
  },
  {
   "cell_type": "code",
   "execution_count": 1,
   "metadata": {},
   "outputs": [],
   "source": [
    "import numpy as np\n",
    "import os\n",
    "import pandas as pd\n",
    "import pickle\n",
    "import time\n",
    "\n",
    "from mazepy.datastruc.variables import KilosortSpikeTrain, VariableBin\n",
    "from replay.preprocess.read import read_npxdata \n",
    "from replay.preprocess.neuact import get_within_trial_spike_index\n",
    "from replay.preprocess.behav import transform_time_format\n",
    "from replay.local_path import f1_behav as f\n",
    "\n",
    "i = 0\n",
    "\n",
    "with open(f['Trace Behav File'][i], 'rb') as handle:\n",
    "    trace = pickle.load(handle)\n",
    "\n",
    "trace.update(read_npxdata(dir_name=f['npx_folder'][i]))"
   ]
  },
  {
   "cell_type": "code",
   "execution_count": 4,
   "metadata": {},
   "outputs": [
    {
     "name": "stdout",
     "output_type": "stream",
     "text": [
      "<class 'str'> <class 'str'>\n"
     ]
    }
   ],
   "source": [
    "\n",
    "print(type(f['npx_init_time'][i]), type(f['behav_init_time'][i]))\n",
    "npx_init_time = transform_time_format(f['npx_init_time'][i])[0]\n",
    "behav_init_time = transform_time_format(f['behav_init_time'][i])[0]\n",
    "behav_time = trace['video_time'] - npx_init_time + behav_init_time\n",
    "    \n",
    "within_trial_spike_index = get_within_trial_spike_index(\n",
    "    trace['spike_times'],\n",
    "    behav_time[trace['onset_frames']],\n",
    "    behav_time[trace['end_frames']]\n",
    ")\n",
    "\n",
    "\n",
    "spikes_remain = trace['spike_clusters'][within_trial_spike_index]\n",
    "spike_time_remain = trace['spike_times'][within_trial_spike_index]\n",
    "frequency = trace['dominant_freq_filtered'][trace['dominant_freq_filtered'] > 0]\n",
    "\n",
    "from replay.preprocess.neuact import get_spike_related_freq\n",
    "\n",
    "spike_freq = get_spike_related_freq(\n",
    "    spike_time_remain, \n",
    "    behav_time,\n",
    "    trace['onset_frames'],\n",
    "    trace['end_frames'],\n",
    "    trace['dominant_freq_filtered']\n",
    ").astype(np.int64) - 23 # set to 0\n",
    "\n",
    "assert spike_time_remain.shape[0] == spike_freq.shape[0]\n",
    "\n",
    "neural_activity = KilosortSpikeTrain(\n",
    "    activity=spikes_remain,\n",
    "    time_stamp=spike_time_remain * 1000,\n",
    "    variable=VariableBin(spike_freq)\n",
    ")"
   ]
  },
  {
   "cell_type": "code",
   "execution_count": 5,
   "metadata": {},
   "outputs": [
    {
     "name": "stdout",
     "output_type": "stream",
     "text": [
      "[[0.02762875 0.22766554 0.30836235 ... 0.         0.         0.        ]\n",
      " [0.05525751 0.39841469 0.22025882 ... 0.         0.         0.        ]\n",
      " [0.49731756 1.70749152 2.46689877 ... 0.         0.71544405 0.        ]\n",
      " ...\n",
      " [0.         0.         0.         ... 0.         0.         0.        ]\n",
      " [0.         0.         0.         ... 0.         0.         0.        ]\n",
      " [0.00920958 0.         0.04405176 ... 0.         0.         0.        ]]\n"
     ]
    }
   ],
   "source": [
    "neural_activity.activity\n",
    "neural_activity.calc_firing_rate(\n",
    "    nbins = (np.max(spike_freq), )\n",
    ")\n",
    "print(neural_activity.firing_rate)"
   ]
  },
  {
   "cell_type": "code",
   "execution_count": null,
   "metadata": {},
   "outputs": [],
   "source": []
  }
 ],
 "metadata": {
  "kernelspec": {
   "display_name": "replaypy",
   "language": "python",
   "name": "python3"
  },
  "language_info": {
   "codemirror_mode": {
    "name": "ipython",
    "version": 3
   },
   "file_extension": ".py",
   "mimetype": "text/x-python",
   "name": "python",
   "nbconvert_exporter": "python",
   "pygments_lexer": "ipython3",
   "version": "3.10.14"
  }
 },
 "nbformat": 4,
 "nbformat_minor": 2
}
